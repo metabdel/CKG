{
 "cells": [
  {
   "cell_type": "markdown",
   "metadata": {},
   "source": [
    "# Rapid proteomic analysis for solid tumors reveals LSD1 as a drug target in an end‐stage cancer patient\n",
    "#### Doll et al. https://www.ncbi.nlm.nih.gov/pmc/articles/PMC6068348/\n",
    "\n",
    "### Abstract\n",
    "Recent advances in mass spectrometry (MS)‐based technologies are now set to transform translational cancer proteomics from an idea to a practice. Here, we present a robust proteomic workflow for the analysis of clinically relevant human cancer tissues that allows quantitation of thousands of tumor proteins in several hours of measuring time and a total turnaround of a few days. We applied it to a chemorefractory metastatic case of the extremely rare urachal carcinoma. Quantitative comparison of lung metastases and surrounding tissue revealed several significantly upregulated proteins, among them lysine‐specific histone demethylase 1 (LSD1/KDM1A). LSD1 is an epigenetic regulator and the target of active development efforts in oncology. Thus, clinical cancer proteomics can rapidly and efficiently identify actionable therapeutic options. While currently described for a single case study, we envision that it can be applied broadly to other patients in a similar condition.\n",
    "\n",
    "### Workflow\n",
    "\n",
    "![Figure 2](https://www.ncbi.nlm.nih.gov/pmc/articles/PMC6068348/bin/MOL2-12-1296-g002.jpg)\n",
    "\n",
    "**Figure 2** Proteomics workflow for the case study. (A) Timeline of the project. (B) Experimental design, including source of material, inStageTip sample preparation, and depiction of the analytical workflow\n",
    "\n",
    "\n",
    "### Results\n",
    "\n",
    "![Figure 3](https://www.ncbi.nlm.nih.gov/pmc/articles/PMC6068348/bin/MOL2-12-1296-g003.jpg)\n",
    "\n",
    "**Figure 3** Proteins differentially expressed in the urachal carcinoma lung metastases. (A) Volcano plot of the p‐values (y‐axis) vs. the log2 protein abundance differences (x‐axis) between metastases and control, with lines of significance colored in black or gray lines corresponding to a 5% or 1% FDR, respectively. (B) Mechanisms of action of LSD1/KDM1A and inhibitory drug treatment proposed: **JATROSOME. TRANYLCYPROMIN**\n",
    "\n",
    "\n",
    "### Workflow with the Clinical Knowledge Graph\n",
    "\n",
    "1. Generate Analysis Report: Proteomics data\n",
    "2. Identify Candidate Drug Treatments\n",
    "3. Rank Candidates According to Toxicity"
   ]
  },
  {
   "cell_type": "markdown",
   "metadata": {},
   "source": [
    "![Clinical_Knowledge_Graph](banner.jpg)"
   ]
  },
  {
   "cell_type": "markdown",
   "metadata": {},
   "source": [
    "## Generate Analysis Report: Proteomics Data\n",
    "\n",
    "### Report Manager"
   ]
  },
  {
   "cell_type": "code",
   "execution_count": 268,
   "metadata": {},
   "outputs": [],
   "source": [
    "from report_manager import project"
   ]
  },
  {
   "cell_type": "markdown",
   "metadata": {},
   "source": [
    "##### We load specific configuration for this project."
   ]
  },
  {
   "cell_type": "code",
   "execution_count": 269,
   "metadata": {},
   "outputs": [],
   "source": [
    "configuration_files = {\"proteomics\":\"/Users/albertosantos/Development/Clinical_Proteomics_Department/ClinicalKnowledgeGraph(CKG)/code/src/report_manager/config/proteomics_P0000002.yml\"}"
   ]
  },
  {
   "cell_type": "markdown",
   "metadata": {},
   "source": [
    "##### We create a new project object that we can use to run the analyses"
   ]
  },
  {
   "cell_type": "code",
   "execution_count": 270,
   "metadata": {},
   "outputs": [],
   "source": [
    "study_case_project = project.Project(identifier=\"P0000002\", configuration_files=configuration_files, datasets={}, knowledge=None, report={})"
   ]
  },
  {
   "cell_type": "markdown",
   "metadata": {},
   "source": [
    "##### We need to first build the project. This step will collect the project datasets from CKG and process them"
   ]
  },
  {
   "cell_type": "code",
   "execution_count": 271,
   "metadata": {},
   "outputs": [
    {
     "name": "stdout",
     "output_type": "stream",
     "text": [
      "Loading project\n"
     ]
    }
   ],
   "source": [
    "study_case_project.build_project(force=False)"
   ]
  },
  {
   "cell_type": "markdown",
   "metadata": {},
   "source": [
    "##### We can now generate the report following the specified configuration"
   ]
  },
  {
   "cell_type": "code",
   "execution_count": 272,
   "metadata": {
    "scrolled": false
   },
   "outputs": [],
   "source": [
    "study_case_project.generate_report()"
   ]
  },
  {
   "cell_type": "markdown",
   "metadata": {},
   "source": [
    "##### Ready! All the analyses are done and we can now access to all the results for each data type"
   ]
  },
  {
   "cell_type": "code",
   "execution_count": 273,
   "metadata": {},
   "outputs": [
    {
     "data": {
      "text/plain": [
       "dict_keys(['multiomics', 'wes', 'proteomics'])"
      ]
     },
     "execution_count": 273,
     "metadata": {},
     "output_type": "execute_result"
    }
   ],
   "source": [
    "study_case_project.list_datasets()"
   ]
  },
  {
   "cell_type": "markdown",
   "metadata": {},
   "source": [
    "##### We will use the results from the proteomics analyses. We access the dataset 'proteomics' for further analysis."
   ]
  },
  {
   "cell_type": "code",
   "execution_count": 274,
   "metadata": {},
   "outputs": [],
   "source": [
    "proteomics_dataset = study_case_project.get_dataset(dataset='proteomics')"
   ]
  },
  {
   "cell_type": "markdown",
   "metadata": {},
   "source": [
    "##### The available analysis for this dataset are:"
   ]
  },
  {
   "cell_type": "code",
   "execution_count": 275,
   "metadata": {},
   "outputs": [
    {
     "data": {
      "text/plain": [
       "['go annotation',\n",
       " 'number of modified proteins',\n",
       " 'number of peptides',\n",
       " 'number of proteins',\n",
       " 'original',\n",
       " 'pathway annotation',\n",
       " 'processed',\n",
       " 'protein biomarkers',\n",
       " 'regulated',\n",
       " 'regulation table']"
      ]
     },
     "execution_count": 275,
     "metadata": {},
     "output_type": "execute_result"
    }
   ],
   "source": [
    "proteomics_dataset.list_dataframes()"
   ]
  },
  {
   "cell_type": "markdown",
   "metadata": {},
   "source": [
    "###### In this case, we use the regulation table to extract proteins upregulated in the metastatic tissue compare to non-cancerous tissue.\n",
    "***Note: the automated analysis from CKG return the comparison CONTROL vs CANCER***"
   ]
  },
  {
   "cell_type": "code",
   "execution_count": 276,
   "metadata": {},
   "outputs": [],
   "source": [
    "regulation_table = proteomics_dataset.get_dataframe(dataset_name='regulation table')"
   ]
  },
  {
   "cell_type": "code",
   "execution_count": 277,
   "metadata": {},
   "outputs": [
    {
     "data": {
      "text/html": [
       "<div>\n",
       "<style scoped>\n",
       "    .dataframe tbody tr th:only-of-type {\n",
       "        vertical-align: middle;\n",
       "    }\n",
       "\n",
       "    .dataframe tbody tr th {\n",
       "        vertical-align: top;\n",
       "    }\n",
       "\n",
       "    .dataframe thead th {\n",
       "        text-align: right;\n",
       "    }\n",
       "</style>\n",
       "<table border=\"1\" class=\"dataframe\">\n",
       "  <thead>\n",
       "    <tr style=\"text-align: right;\">\n",
       "      <th></th>\n",
       "      <th>-log10 pvalue</th>\n",
       "      <th>FC</th>\n",
       "      <th>Method</th>\n",
       "      <th>Note</th>\n",
       "      <th>correction</th>\n",
       "      <th>group1</th>\n",
       "      <th>group2</th>\n",
       "      <th>identifier</th>\n",
       "      <th>log2FC</th>\n",
       "      <th>mean(group1)</th>\n",
       "      <th>mean(group2)</th>\n",
       "      <th>padj</th>\n",
       "      <th>pvalue</th>\n",
       "      <th>rejected</th>\n",
       "      <th>s0</th>\n",
       "      <th>t-statistics</th>\n",
       "    </tr>\n",
       "  </thead>\n",
       "  <tbody>\n",
       "    <tr>\n",
       "      <th>0</th>\n",
       "      <td>0.270536</td>\n",
       "      <td>1.277610</td>\n",
       "      <td>SAMR Two class paired</td>\n",
       "      <td>Maximum number of permutations: 4.0. Corrected...</td>\n",
       "      <td>FDR correction BH</td>\n",
       "      <td>CANCER</td>\n",
       "      <td>CONTROL</td>\n",
       "      <td>A1BG~P04217</td>\n",
       "      <td>0.353447</td>\n",
       "      <td>31.709831</td>\n",
       "      <td>32.063278</td>\n",
       "      <td>0.714817</td>\n",
       "      <td>0.536369</td>\n",
       "      <td>False</td>\n",
       "      <td>2</td>\n",
       "      <td>0.153337</td>\n",
       "    </tr>\n",
       "    <tr>\n",
       "      <th>1</th>\n",
       "      <td>2.399501</td>\n",
       "      <td>-3.612029</td>\n",
       "      <td>SAMR Two class paired</td>\n",
       "      <td>Maximum number of permutations: 4.0. Corrected...</td>\n",
       "      <td>FDR correction BH</td>\n",
       "      <td>CANCER</td>\n",
       "      <td>CONTROL</td>\n",
       "      <td>A1CF~Q9NQ94</td>\n",
       "      <td>-1.852810</td>\n",
       "      <td>26.563041</td>\n",
       "      <td>24.710232</td>\n",
       "      <td>0.055096</td>\n",
       "      <td>0.003986</td>\n",
       "      <td>False</td>\n",
       "      <td>2</td>\n",
       "      <td>-0.924007</td>\n",
       "    </tr>\n",
       "    <tr>\n",
       "      <th>2</th>\n",
       "      <td>1.053637</td>\n",
       "      <td>1.926331</td>\n",
       "      <td>SAMR Two class paired</td>\n",
       "      <td>Maximum number of permutations: 4.0. Corrected...</td>\n",
       "      <td>FDR correction BH</td>\n",
       "      <td>CANCER</td>\n",
       "      <td>CONTROL</td>\n",
       "      <td>A2M~P01023</td>\n",
       "      <td>0.945855</td>\n",
       "      <td>34.287108</td>\n",
       "      <td>35.232963</td>\n",
       "      <td>0.272086</td>\n",
       "      <td>0.088382</td>\n",
       "      <td>False</td>\n",
       "      <td>2</td>\n",
       "      <td>0.463202</td>\n",
       "    </tr>\n",
       "    <tr>\n",
       "      <th>3</th>\n",
       "      <td>1.485687</td>\n",
       "      <td>-2.801250</td>\n",
       "      <td>SAMR Two class paired</td>\n",
       "      <td>Maximum number of permutations: 4.0. Corrected...</td>\n",
       "      <td>FDR correction BH</td>\n",
       "      <td>CANCER</td>\n",
       "      <td>CONTROL</td>\n",
       "      <td>AAAS~Q9NRG9</td>\n",
       "      <td>-1.486071</td>\n",
       "      <td>26.316579</td>\n",
       "      <td>24.830508</td>\n",
       "      <td>0.150779</td>\n",
       "      <td>0.032682</td>\n",
       "      <td>False</td>\n",
       "      <td>2</td>\n",
       "      <td>-0.594606</td>\n",
       "    </tr>\n",
       "    <tr>\n",
       "      <th>4</th>\n",
       "      <td>0.707536</td>\n",
       "      <td>1.786161</td>\n",
       "      <td>SAMR Two class paired</td>\n",
       "      <td>Maximum number of permutations: 4.0. Corrected...</td>\n",
       "      <td>FDR correction BH</td>\n",
       "      <td>CANCER</td>\n",
       "      <td>CONTROL</td>\n",
       "      <td>AACS~Q86V21</td>\n",
       "      <td>0.836862</td>\n",
       "      <td>26.349952</td>\n",
       "      <td>27.186814</td>\n",
       "      <td>0.424504</td>\n",
       "      <td>0.196094</td>\n",
       "      <td>False</td>\n",
       "      <td>2</td>\n",
       "      <td>0.346611</td>\n",
       "    </tr>\n",
       "  </tbody>\n",
       "</table>\n",
       "</div>"
      ],
      "text/plain": [
       "   -log10 pvalue        FC                 Method  \\\n",
       "0       0.270536  1.277610  SAMR Two class paired   \n",
       "1       2.399501 -3.612029  SAMR Two class paired   \n",
       "2       1.053637  1.926331  SAMR Two class paired   \n",
       "3       1.485687 -2.801250  SAMR Two class paired   \n",
       "4       0.707536  1.786161  SAMR Two class paired   \n",
       "\n",
       "                                                Note         correction  \\\n",
       "0  Maximum number of permutations: 4.0. Corrected...  FDR correction BH   \n",
       "1  Maximum number of permutations: 4.0. Corrected...  FDR correction BH   \n",
       "2  Maximum number of permutations: 4.0. Corrected...  FDR correction BH   \n",
       "3  Maximum number of permutations: 4.0. Corrected...  FDR correction BH   \n",
       "4  Maximum number of permutations: 4.0. Corrected...  FDR correction BH   \n",
       "\n",
       "   group1   group2   identifier    log2FC  mean(group1)  mean(group2)  \\\n",
       "0  CANCER  CONTROL  A1BG~P04217  0.353447     31.709831     32.063278   \n",
       "1  CANCER  CONTROL  A1CF~Q9NQ94 -1.852810     26.563041     24.710232   \n",
       "2  CANCER  CONTROL   A2M~P01023  0.945855     34.287108     35.232963   \n",
       "3  CANCER  CONTROL  AAAS~Q9NRG9 -1.486071     26.316579     24.830508   \n",
       "4  CANCER  CONTROL  AACS~Q86V21  0.836862     26.349952     27.186814   \n",
       "\n",
       "       padj    pvalue  rejected  s0  t-statistics  \n",
       "0  0.714817  0.536369     False   2      0.153337  \n",
       "1  0.055096  0.003986     False   2     -0.924007  \n",
       "2  0.272086  0.088382     False   2      0.463202  \n",
       "3  0.150779  0.032682     False   2     -0.594606  \n",
       "4  0.424504  0.196094     False   2      0.346611  "
      ]
     },
     "execution_count": 277,
     "metadata": {},
     "output_type": "execute_result"
    }
   ],
   "source": [
    "regulation_table.head()"
   ]
  },
  {
   "cell_type": "code",
   "execution_count": 278,
   "metadata": {},
   "outputs": [
    {
     "data": {
      "text/html": [
       "<div>\n",
       "<style scoped>\n",
       "    .dataframe tbody tr th:only-of-type {\n",
       "        vertical-align: middle;\n",
       "    }\n",
       "\n",
       "    .dataframe tbody tr th {\n",
       "        vertical-align: top;\n",
       "    }\n",
       "\n",
       "    .dataframe thead th {\n",
       "        text-align: right;\n",
       "    }\n",
       "</style>\n",
       "<table border=\"1\" class=\"dataframe\">\n",
       "  <thead>\n",
       "    <tr style=\"text-align: right;\">\n",
       "      <th></th>\n",
       "      <th>-log10 pvalue</th>\n",
       "      <th>FC</th>\n",
       "      <th>Method</th>\n",
       "      <th>Note</th>\n",
       "      <th>correction</th>\n",
       "      <th>group1</th>\n",
       "      <th>group2</th>\n",
       "      <th>identifier</th>\n",
       "      <th>log2FC</th>\n",
       "      <th>mean(group1)</th>\n",
       "      <th>mean(group2)</th>\n",
       "      <th>padj</th>\n",
       "      <th>pvalue</th>\n",
       "      <th>rejected</th>\n",
       "      <th>s0</th>\n",
       "      <th>t-statistics</th>\n",
       "    </tr>\n",
       "  </thead>\n",
       "  <tbody>\n",
       "    <tr>\n",
       "      <th>2225</th>\n",
       "      <td>2.700531</td>\n",
       "      <td>-8.022234</td>\n",
       "      <td>SAMR Two class paired</td>\n",
       "      <td>Maximum number of permutations: 4.0. Corrected...</td>\n",
       "      <td>FDR correction BH</td>\n",
       "      <td>CANCER</td>\n",
       "      <td>CONTROL</td>\n",
       "      <td>KDM1A~O60341</td>\n",
       "      <td>-3.004004</td>\n",
       "      <td>28.867004</td>\n",
       "      <td>25.863</td>\n",
       "      <td>0.039683</td>\n",
       "      <td>0.001993</td>\n",
       "      <td>True</td>\n",
       "      <td>2</td>\n",
       "      <td>-1.007213</td>\n",
       "    </tr>\n",
       "  </tbody>\n",
       "</table>\n",
       "</div>"
      ],
      "text/plain": [
       "      -log10 pvalue        FC                 Method  \\\n",
       "2225       2.700531 -8.022234  SAMR Two class paired   \n",
       "\n",
       "                                                   Note         correction  \\\n",
       "2225  Maximum number of permutations: 4.0. Corrected...  FDR correction BH   \n",
       "\n",
       "      group1   group2    identifier    log2FC  mean(group1)  mean(group2)  \\\n",
       "2225  CANCER  CONTROL  KDM1A~O60341 -3.004004     28.867004        25.863   \n",
       "\n",
       "          padj    pvalue  rejected  s0  t-statistics  \n",
       "2225  0.039683  0.001993      True   2     -1.007213  "
      ]
     },
     "execution_count": 278,
     "metadata": {},
     "output_type": "execute_result"
    }
   ],
   "source": [
    "regulation_table[regulation_table[\"identifier\"].str.startswith('KDM1A')]"
   ]
  },
  {
   "cell_type": "markdown",
   "metadata": {},
   "source": [
    "##### As in the article, we use significantly regulated proteins with a fold change higher than two."
   ]
  },
  {
   "cell_type": "code",
   "execution_count": 279,
   "metadata": {},
   "outputs": [],
   "source": [
    "up_regulated_proteins = regulation_table.loc[(regulation_table.rejected) & (regulation_table.FC < -2), ['identifier']]"
   ]
  },
  {
   "cell_type": "code",
   "execution_count": 280,
   "metadata": {},
   "outputs": [
    {
     "data": {
      "text/plain": [
       "(187, 1)"
      ]
     },
     "execution_count": 280,
     "metadata": {},
     "output_type": "execute_result"
    }
   ],
   "source": [
    "up_regulated_proteins.shape"
   ]
  },
  {
   "cell_type": "markdown",
   "metadata": {},
   "source": [
    "### Graph Database Connector"
   ]
  },
  {
   "cell_type": "code",
   "execution_count": 281,
   "metadata": {},
   "outputs": [],
   "source": [
    "from graphdb_connector import query_utils, connector"
   ]
  },
  {
   "cell_type": "markdown",
   "metadata": {},
   "source": [
    "##### We connect to CKG database using the default configuration"
   ]
  },
  {
   "cell_type": "code",
   "execution_count": 282,
   "metadata": {},
   "outputs": [],
   "source": [
    "driver = connector.getGraphDatabaseConnectionConfiguration()"
   ]
  },
  {
   "cell_type": "markdown",
   "metadata": {},
   "source": [
    "##### We load the existing database queries that we can use to extract knowledge from CKG"
   ]
  },
  {
   "cell_type": "code",
   "execution_count": 283,
   "metadata": {},
   "outputs": [],
   "source": [
    "queries = query_utils.read_knowledge_queries()"
   ]
  },
  {
   "cell_type": "markdown",
   "metadata": {},
   "source": [
    "### 1) Filter for Regulated Proteins Associated to Lung Cancer:\n",
    "\n",
    "##### We want to check whether we can identify known connection between the upregulated proteins in metastases and the disease\n",
    "##### We check if there are queries for these node types: Protein, Disease"
   ]
  },
  {
   "cell_type": "code",
   "execution_count": 284,
   "metadata": {
    "scrolled": false
   },
   "outputs": [
    {
     "name": "stdout",
     "output_type": "stream",
     "text": [
      "Query id: Disease\n",
      "Query Name:  associated diseases in at least two of the proteins specified\n",
      "Description:  get relationships to diseases from a list of proteins. Limit the result to diseases associated to the disease studied and with a score higher than 3 (DISEASES).\n",
      "Involves nodes: Protein,Disease\n",
      "Involves relationships: Protein,Disease\n",
      "Query:\n",
      " MATCH (project:Project)-[:STUDIES_DISEASE]-(d:Disease)-[:HAS_PARENT]->(parent_disease:Disease) WHERE project.id=\"PROJECTID\" WITH COLLECT(parent_disease) + COLLECT(d) AS parent_diseases MATCH (protein:Protein)-[r]-(disease:Disease)-[:HAS_PARENT]->(parents:Disease) WHERE ((protein.name+\"~\"+protein.id) IN [PROTEINIDS]) AND toFloat(r.score)>1.0 AND parents IN parent_diseases RETURN (protein.name+\"~\"+protein.id) AS node1, disease.name AS node2, r.score AS weight, type(r) AS type\n",
      "\n",
      "Query id: association_disease_score\n",
      "Query Name:  specific disease\n",
      "Description:  Return the list of proteins associated to a specific disease with a specific score.\n",
      "Involves nodes: Protein,Disease\n",
      "Involves relationships: Protein,Disease\n",
      "Query:\n",
      " MATCH (protein:Protein)-[r]-(disease:Disease) WHERE ((protein.name+\"~\"+protein.id) IN [{}]) AND disease.id IN [{}] AND toFloat(r.score)>{} RETURN (protein.name+\"~\"+protein.id) AS node1, disease.name AS node2, r.score AS weight, type(r) AS type, r.source AS source\n",
      "\n",
      "How to use it:\n",
      " proteins = ['A1BG~P04217','A2M~P01023','ACACB~O00763','ACTC1~P68032','ADIPOQ~Q15848','AGT~P01019','AIFM2~Q9BRQ8','APOA2~V9GYM3']\n",
      "disease  = ['DOID:1324']\n",
      "score = 3\n",
      "protein_disease_associations = queries[\"association_disease_score\"][\"query\"].format(proteins, disease, score)\n"
     ]
    }
   ],
   "source": [
    "selected_queries = query_utils.find_queries_involving_nodes(queries=queries, nodes=[\"Protein\", \"Disease\"], print_pretty=True)"
   ]
  },
  {
   "cell_type": "markdown",
   "metadata": {},
   "source": [
    "##### The query named 'specific disease' can help us in this case"
   ]
  },
  {
   "cell_type": "code",
   "execution_count": 285,
   "metadata": {},
   "outputs": [],
   "source": [
    "disease_query = selected_queries[\"association_disease_score\"][\"query\"]\n",
    "proteins = ['\"{}\"'.format(p) for p in up_regulated_proteins[\"identifier\"].tolist()]\n",
    "diseases = ['DOID:1324']\n",
    "diseases = ['\"{}\"'.format(d) for d in diseases]\n",
    "disease_query = disease_query.format(\",\".join(proteins),\",\".join(diseases), 1)"
   ]
  },
  {
   "cell_type": "code",
   "execution_count": 286,
   "metadata": {},
   "outputs": [],
   "source": [
    "proteins_associated_lung_cancer = connector.getCursorData(driver=driver, query=disease_query, parameters={})"
   ]
  },
  {
   "cell_type": "code",
   "execution_count": 287,
   "metadata": {},
   "outputs": [
    {
     "data": {
      "text/html": [
       "<div>\n",
       "<style scoped>\n",
       "    .dataframe tbody tr th:only-of-type {\n",
       "        vertical-align: middle;\n",
       "    }\n",
       "\n",
       "    .dataframe tbody tr th {\n",
       "        vertical-align: top;\n",
       "    }\n",
       "\n",
       "    .dataframe thead th {\n",
       "        text-align: right;\n",
       "    }\n",
       "</style>\n",
       "<table border=\"1\" class=\"dataframe\">\n",
       "  <thead>\n",
       "    <tr style=\"text-align: right;\">\n",
       "      <th></th>\n",
       "      <th>node1</th>\n",
       "      <th>node2</th>\n",
       "      <th>source</th>\n",
       "      <th>type</th>\n",
       "      <th>weight</th>\n",
       "    </tr>\n",
       "  </thead>\n",
       "  <tbody>\n",
       "    <tr>\n",
       "      <th>0</th>\n",
       "      <td>CPQ~Q9Y646</td>\n",
       "      <td>lung cancer</td>\n",
       "      <td>DISEASES</td>\n",
       "      <td>ASSOCIATED_WITH</td>\n",
       "      <td>1.034</td>\n",
       "    </tr>\n",
       "    <tr>\n",
       "      <th>1</th>\n",
       "      <td>CEACAM6~P40199</td>\n",
       "      <td>lung cancer</td>\n",
       "      <td>DISEASES</td>\n",
       "      <td>ASSOCIATED_WITH</td>\n",
       "      <td>1.350</td>\n",
       "    </tr>\n",
       "    <tr>\n",
       "      <th>2</th>\n",
       "      <td>AGR2~O95994</td>\n",
       "      <td>lung cancer</td>\n",
       "      <td>DISEASES</td>\n",
       "      <td>ASSOCIATED_WITH</td>\n",
       "      <td>1.133</td>\n",
       "    </tr>\n",
       "    <tr>\n",
       "      <th>3</th>\n",
       "      <td>THBS1~P07996</td>\n",
       "      <td>lung cancer</td>\n",
       "      <td>DISEASES</td>\n",
       "      <td>ASSOCIATED_WITH</td>\n",
       "      <td>1.263</td>\n",
       "    </tr>\n",
       "    <tr>\n",
       "      <th>4</th>\n",
       "      <td>KRT20~P35900</td>\n",
       "      <td>lung cancer</td>\n",
       "      <td>DISEASES</td>\n",
       "      <td>ASSOCIATED_WITH</td>\n",
       "      <td>1.670</td>\n",
       "    </tr>\n",
       "  </tbody>\n",
       "</table>\n",
       "</div>"
      ],
      "text/plain": [
       "            node1        node2    source             type  weight\n",
       "0      CPQ~Q9Y646  lung cancer  DISEASES  ASSOCIATED_WITH   1.034\n",
       "1  CEACAM6~P40199  lung cancer  DISEASES  ASSOCIATED_WITH   1.350\n",
       "2     AGR2~O95994  lung cancer  DISEASES  ASSOCIATED_WITH   1.133\n",
       "3    THBS1~P07996  lung cancer  DISEASES  ASSOCIATED_WITH   1.263\n",
       "4    KRT20~P35900  lung cancer  DISEASES  ASSOCIATED_WITH   1.670"
      ]
     },
     "execution_count": 287,
     "metadata": {},
     "output_type": "execute_result"
    }
   ],
   "source": [
    "proteins_associated_lung_cancer.head()"
   ]
  },
  {
   "cell_type": "code",
   "execution_count": 288,
   "metadata": {},
   "outputs": [
    {
     "data": {
      "text/plain": [
       "(21, 5)"
      ]
     },
     "execution_count": 288,
     "metadata": {},
     "output_type": "execute_result"
    }
   ],
   "source": [
    "proteins_associated_lung_cancer.shape"
   ]
  },
  {
   "cell_type": "markdown",
   "metadata": {},
   "source": [
    "### 2) Identify Inhibitory Drugs for those Proteins\n",
    "\n",
    "##### We use again the functionality 'find_queries_involving_nodes' to find queries involving nodes: Protein, Drug"
   ]
  },
  {
   "cell_type": "code",
   "execution_count": 289,
   "metadata": {
    "scrolled": false
   },
   "outputs": [
    {
     "name": "stdout",
     "output_type": "stream",
     "text": [
      "Query id: Drug\n",
      "Query Name:  associated drugs in at least two of the proteins specified\n",
      "Description:  get relationships to drugs. Limit the result to drugs associated to at least two proteins with a score higher than 0.9 (STITCH).\n",
      "Involves nodes: Protein,Drug\n",
      "Involves relationships: Protein,Drug\n",
      "Query:\n",
      " MATCH (protein:Protein)-[r:ACTS_ON]-(drug:Drug) WHERE ((protein.name+\"~\"+protein.id) IN [PROTEINIDS]) AND toFloat(r.score)>0.9 WITH drug, count(r) AS r_count WHERE r_count>1 MATCH (protein:Protein)-[r:ACTS_ON]-(drug) WHERE ((protein.name+\"~\"+protein.id) IN [PROTEINIDS]) AND toFloat(r.score)>0.9 RETURN (protein.name+\"~\"+protein.id) AS node1, drug.name AS node2, r.score AS weight, r.action AS type\n",
      "\n",
      "Query id: association_drug_intervention_proteins\n",
      "Query Name:  drug intervention- protein association\n",
      "Description:  Return associations between a list of proteins and the drug intervention in the project\n",
      "Involves nodes: Project,Protein,Clinical_variable,Drug\n",
      "Involves relationships: Project,Protein,Clinical_variable,Drug\n",
      "Query:\n",
      " MATCH (project:Project)-[]-()-[:HAD_INTERVENTION]-(c:Clinical_variable) WHERE project.id={} AND intervention.type='drug treatment' WITH COLLECT(toLower(c.name)) AS interventions MATCH (drug:Drug)-[r:ACTS_ON]->(protein:Protein) WHERE ((protein.name+\"~\"+protein.id) IN [{}]) AND r.action=\"{}\" AND toFloat(r.score)>={} AND toLower(drug.name) IN interventions RETURN (protein.name+\"~\"+protein.id) AS node1, drug.name AS node2, drug.id AS drug_id, drug.description AS Drug_desc, r.score AS weight, type(r) AS type, r.action AS action, r.source AS source\n",
      "\n",
      "How to use it:\n",
      " project_id = 'P0000002'\n",
      "proteins = ['A1BG~P04217','A2M~P01023','ACACB~O00763','ACTC1~P68032','ADIPOQ~Q15848','AGT~P01019','AIFM2~Q9BRQ8','APOA2~V9GYM3']\n",
      "type  = 'inhibition'\n",
      "score = 0.9\n",
      "intervention_protein_associations = queries[\"association_drug_intervention_proteins\"][\"query\"].format(project_id, proteins, type, score)\n",
      "Query id: association_drug_interaction_score\n",
      "Query Name:  drug interaction association\n",
      "Description:  Return the list of drugs associated to the list of proteins provided with a specific interaction (i.e. inhibition, activation) with a specific score\n",
      "Involves nodes: Protein,Drug\n",
      "Involves relationships: Protein,Drug\n",
      "Query:\n",
      " MATCH (protein:Protein)-[r]-(drug:Drug) WHERE ((protein.name+\"~\"+protein.id) IN [{}]) AND r.action=\"{}\" AND toFloat(r.score)>={} RETURN (protein.name+\"~\"+protein.id) AS node1, drug.name AS node2, drug.id AS drug_id, drug.description AS Drug_desc, r.score AS weight, type(r) AS type, r.action AS action, r.source AS source\n",
      "\n",
      "How to use it:\n",
      " proteins = ['A1BG~P04217','A2M~P01023','ACACB~O00763','ACTC1~P68032','ADIPOQ~Q15848','AGT~P01019','AIFM2~Q9BRQ8','APOA2~V9GYM3']\n",
      "type  = 'inhibition'\n",
      "score = 0.9\n",
      "protein_drug_associations = queries[\"association_drug_interaction_score\"][\"query\"].format(proteins, type, score)\n"
     ]
    }
   ],
   "source": [
    "selected_queries = query_utils.find_queries_involving_nodes(queries=queries, nodes=[\"Protein\", \"Drug\"], print_pretty=True)"
   ]
  },
  {
   "cell_type": "code",
   "execution_count": 290,
   "metadata": {},
   "outputs": [],
   "source": [
    "proteins = ['\"{}\"'.format(p) for p in proteins_associated_lung_cancer['node1'].tolist()]\n",
    "drug_query = queries[\"association_drug_interaction_score\"][\"query\"].format(\",\".join(proteins), 'inhibition', 0.8)"
   ]
  },
  {
   "cell_type": "markdown",
   "metadata": {},
   "source": [
    "##### We search in CKG database for known inhibitory drugs for these proteins"
   ]
  },
  {
   "cell_type": "code",
   "execution_count": 291,
   "metadata": {},
   "outputs": [],
   "source": [
    "drugs_proposed = connector.getCursorData(driver=driver, query=drug_query, parameters={})"
   ]
  },
  {
   "cell_type": "code",
   "execution_count": 292,
   "metadata": {},
   "outputs": [
    {
     "data": {
      "text/html": [
       "<div>\n",
       "<style scoped>\n",
       "    .dataframe tbody tr th:only-of-type {\n",
       "        vertical-align: middle;\n",
       "    }\n",
       "\n",
       "    .dataframe tbody tr th {\n",
       "        vertical-align: top;\n",
       "    }\n",
       "\n",
       "    .dataframe thead th {\n",
       "        text-align: right;\n",
       "    }\n",
       "</style>\n",
       "<table border=\"1\" class=\"dataframe\">\n",
       "  <thead>\n",
       "    <tr style=\"text-align: right;\">\n",
       "      <th></th>\n",
       "      <th>Drug_desc</th>\n",
       "      <th>action</th>\n",
       "      <th>drug_id</th>\n",
       "      <th>node1</th>\n",
       "      <th>node2</th>\n",
       "      <th>source</th>\n",
       "      <th>type</th>\n",
       "      <th>weight</th>\n",
       "    </tr>\n",
       "  </thead>\n",
       "  <tbody>\n",
       "    <tr>\n",
       "      <th>0</th>\n",
       "      <td>A major primary bile acid produced in the live...</td>\n",
       "      <td>inhibition</td>\n",
       "      <td>DB02659</td>\n",
       "      <td>CDH1~P12830</td>\n",
       "      <td>Cholic Acid</td>\n",
       "      <td>STITCH</td>\n",
       "      <td>ACTS_ON</td>\n",
       "      <td>0.957</td>\n",
       "    </tr>\n",
       "    <tr>\n",
       "      <th>1</th>\n",
       "      <td>A synthetic nonsteroidal estrogen used in the ...</td>\n",
       "      <td>inhibition</td>\n",
       "      <td>DB00255</td>\n",
       "      <td>CDH1~P12830</td>\n",
       "      <td>Diethylstilbestrol</td>\n",
       "      <td>STITCH</td>\n",
       "      <td>ACTS_ON</td>\n",
       "      <td>0.800</td>\n",
       "    </tr>\n",
       "    <tr>\n",
       "      <th>2</th>\n",
       "      <td>Ketamine is an NMDA receptor antagonist with a...</td>\n",
       "      <td>inhibition</td>\n",
       "      <td>DB01221</td>\n",
       "      <td>CDH1~P12830</td>\n",
       "      <td>Ketamine</td>\n",
       "      <td>STITCH</td>\n",
       "      <td>ACTS_ON</td>\n",
       "      <td>0.800</td>\n",
       "    </tr>\n",
       "    <tr>\n",
       "      <th>3</th>\n",
       "      <td>Sorafenib (rINN), marketed as Nexavar by Bayer...</td>\n",
       "      <td>inhibition</td>\n",
       "      <td>DB00398</td>\n",
       "      <td>CDH1~P12830</td>\n",
       "      <td>Sorafenib</td>\n",
       "      <td>STITCH</td>\n",
       "      <td>ACTS_ON</td>\n",
       "      <td>0.800</td>\n",
       "    </tr>\n",
       "    <tr>\n",
       "      <th>4</th>\n",
       "      <td>Nicotine is highly toxic alkaloid. It is the p...</td>\n",
       "      <td>inhibition</td>\n",
       "      <td>DB00184</td>\n",
       "      <td>CDH1~P12830</td>\n",
       "      <td>Nicotine</td>\n",
       "      <td>STITCH</td>\n",
       "      <td>ACTS_ON</td>\n",
       "      <td>0.800</td>\n",
       "    </tr>\n",
       "  </tbody>\n",
       "</table>\n",
       "</div>"
      ],
      "text/plain": [
       "                                           Drug_desc      action  drug_id  \\\n",
       "0  A major primary bile acid produced in the live...  inhibition  DB02659   \n",
       "1  A synthetic nonsteroidal estrogen used in the ...  inhibition  DB00255   \n",
       "2  Ketamine is an NMDA receptor antagonist with a...  inhibition  DB01221   \n",
       "3  Sorafenib (rINN), marketed as Nexavar by Bayer...  inhibition  DB00398   \n",
       "4  Nicotine is highly toxic alkaloid. It is the p...  inhibition  DB00184   \n",
       "\n",
       "         node1               node2  source     type  weight  \n",
       "0  CDH1~P12830         Cholic Acid  STITCH  ACTS_ON   0.957  \n",
       "1  CDH1~P12830  Diethylstilbestrol  STITCH  ACTS_ON   0.800  \n",
       "2  CDH1~P12830            Ketamine  STITCH  ACTS_ON   0.800  \n",
       "3  CDH1~P12830           Sorafenib  STITCH  ACTS_ON   0.800  \n",
       "4  CDH1~P12830            Nicotine  STITCH  ACTS_ON   0.800  "
      ]
     },
     "execution_count": 292,
     "metadata": {},
     "output_type": "execute_result"
    }
   ],
   "source": [
    "drugs_proposed.head()"
   ]
  },
  {
   "cell_type": "code",
   "execution_count": 293,
   "metadata": {},
   "outputs": [
    {
     "data": {
      "text/plain": [
       "(36, 8)"
      ]
     },
     "execution_count": 293,
     "metadata": {},
     "output_type": "execute_result"
    }
   ],
   "source": [
    "drugs_proposed.shape"
   ]
  },
  {
   "cell_type": "markdown",
   "metadata": {},
   "source": [
    "##### These list of inhibitory drugs could in principle be used to identify alternative treatments\n",
    "#### We can already see that CKG found the same inhibitory drug that was identified in the study case published. However, many other options are proposed and could be further ranked using other criteria."
   ]
  },
  {
   "cell_type": "code",
   "execution_count": 294,
   "metadata": {},
   "outputs": [],
   "source": [
    "from analytics_core import utils\n",
    "from analytics_core.viz import viz"
   ]
  },
  {
   "cell_type": "code",
   "execution_count": 295,
   "metadata": {},
   "outputs": [],
   "source": [
    "net = viz.get_network(data=drugs_proposed, identifier=\"inhibition_drugs\", args={\"source\":\"node1\", \"target\":\"node2\", \"values\":\"weight\", \"node_size\":\"degree\",\"title\":\"Proposed drugs\", \"color_weight\":False})"
   ]
  },
  {
   "cell_type": "code",
   "execution_count": 296,
   "metadata": {},
   "outputs": [
    {
     "data": {
      "application/vnd.jupyter.widget-view+json": {
       "model_id": "216bf1e8361742ddbf5e8d804ffedd4a",
       "version_major": 2,
       "version_minor": 0
      },
      "text/plain": [
       "Cytoscape(data={'elements': [{'data': {'degree': 7, 'betweenness': 0.021212121212121213, 'eigenvector': -2.594…"
      ]
     },
     "metadata": {},
     "output_type": "display_data"
    }
   ],
   "source": [
    "viz.visualize_notebook_network(net[\"notebook\"], notebook_type='jupyter', layout={'width':'100%', 'height':'700px'})"
   ]
  },
  {
   "cell_type": "markdown",
   "metadata": {},
   "source": [
    "### 3) Identify Drug Known Side Effects\n",
    "\n",
    "##### In the case study, toxicity was in part the reason why the treatment regimens did not work. We could use the list of side effects to prioritize these drugs.\n",
    "\n",
    "##### Let's find database queries to obtain these associations: Phenotype (side effect), Drug."
   ]
  },
  {
   "cell_type": "code",
   "execution_count": 263,
   "metadata": {},
   "outputs": [
    {
     "name": "stdout",
     "output_type": "stream",
     "text": [
      "Query id: association_drug_sideeffects\n",
      "Query Name:  drug side effect association\n",
      "Description:  Return the list of side effects linked to drugs\n",
      "Involves nodes: Phenotype,Drug\n",
      "Involves relationships: Phenotype,Drug\n",
      "Query:\n",
      " MATCH (sideeffect:Phenotype)-[r]-(drug:Drug) WHERE (drug.id IN [{}]) RETURN drug.name AS node1, sideeffect.name AS node2, type(r) AS type, r.source AS source\n",
      "\n",
      "How to use it:\n",
      " drugs = ['DB00439', 'DB06196']\n",
      "drug_side_effect_associations = queries[\"association_drug_sideeffects\"][\"query\"].format(drugs)\n"
     ]
    }
   ],
   "source": [
    "selected_queries = query_utils.find_queries_involving_nodes(queries=queries, nodes=[\"Phenotype\", \"Drug\"], print_pretty=True)"
   ]
  },
  {
   "cell_type": "code",
   "execution_count": 264,
   "metadata": {},
   "outputs": [],
   "source": [
    "drugs = drugs_proposed[\"drug_id\"].unique()\n",
    "drugs = ['\"{}\"'.format(d) for d in drugs]\n",
    "sideeffects_query = queries[\"association_drug_sideeffects\"][\"query\"].format(\",\".join(drugs))"
   ]
  },
  {
   "cell_type": "code",
   "execution_count": 265,
   "metadata": {},
   "outputs": [],
   "source": [
    "side_effects = connector.getCursorData(driver=driver, query=sideeffects_query, parameters={})"
   ]
  },
  {
   "cell_type": "code",
   "execution_count": 266,
   "metadata": {},
   "outputs": [
    {
     "data": {
      "text/html": [
       "<div>\n",
       "<style scoped>\n",
       "    .dataframe tbody tr th:only-of-type {\n",
       "        vertical-align: middle;\n",
       "    }\n",
       "\n",
       "    .dataframe tbody tr th {\n",
       "        vertical-align: top;\n",
       "    }\n",
       "\n",
       "    .dataframe thead th {\n",
       "        text-align: right;\n",
       "    }\n",
       "</style>\n",
       "<table border=\"1\" class=\"dataframe\">\n",
       "  <thead>\n",
       "    <tr style=\"text-align: right;\">\n",
       "      <th></th>\n",
       "      <th>node1</th>\n",
       "      <th>node2</th>\n",
       "      <th>source</th>\n",
       "      <th>type</th>\n",
       "    </tr>\n",
       "  </thead>\n",
       "  <tbody>\n",
       "    <tr>\n",
       "      <th>0</th>\n",
       "      <td>Vorinostat</td>\n",
       "      <td>Hyperkinesis</td>\n",
       "      <td>SIDER</td>\n",
       "      <td>HAS_SIDE_EFFECT</td>\n",
       "    </tr>\n",
       "    <tr>\n",
       "      <th>1</th>\n",
       "      <td>Vorinostat</td>\n",
       "      <td>Poor appetite</td>\n",
       "      <td>SIDER</td>\n",
       "      <td>HAS_SIDE_EFFECT</td>\n",
       "    </tr>\n",
       "    <tr>\n",
       "      <th>2</th>\n",
       "      <td>Vorinostat</td>\n",
       "      <td>Xerostomia</td>\n",
       "      <td>SIDER</td>\n",
       "      <td>HAS_SIDE_EFFECT</td>\n",
       "    </tr>\n",
       "    <tr>\n",
       "      <th>3</th>\n",
       "      <td>Vorinostat</td>\n",
       "      <td>Squamous cell carcinoma</td>\n",
       "      <td>SIDER</td>\n",
       "      <td>HAS_SIDE_EFFECT</td>\n",
       "    </tr>\n",
       "    <tr>\n",
       "      <th>4</th>\n",
       "      <td>Vorinostat</td>\n",
       "      <td>Headache</td>\n",
       "      <td>SIDER</td>\n",
       "      <td>HAS_SIDE_EFFECT</td>\n",
       "    </tr>\n",
       "  </tbody>\n",
       "</table>\n",
       "</div>"
      ],
      "text/plain": [
       "        node1                    node2 source             type\n",
       "0  Vorinostat             Hyperkinesis  SIDER  HAS_SIDE_EFFECT\n",
       "1  Vorinostat            Poor appetite  SIDER  HAS_SIDE_EFFECT\n",
       "2  Vorinostat               Xerostomia  SIDER  HAS_SIDE_EFFECT\n",
       "3  Vorinostat  Squamous cell carcinoma  SIDER  HAS_SIDE_EFFECT\n",
       "4  Vorinostat                 Headache  SIDER  HAS_SIDE_EFFECT"
      ]
     },
     "execution_count": 266,
     "metadata": {},
     "output_type": "execute_result"
    }
   ],
   "source": [
    "side_effects.head()"
   ]
  },
  {
   "cell_type": "markdown",
   "metadata": {},
   "source": [
    "##### The treatment regimens are also available in CKG and their side effects can be used to rank the proposed drugs. We can prioritize drugs with side effects dissimilar to the ones that caused an adverse reaction in the patient.\n",
    "\n",
    "##### We will in this case define a new query to obtain the treatment intervention"
   ]
  },
  {
   "cell_type": "code",
   "execution_count": 306,
   "metadata": {},
   "outputs": [],
   "source": [
    "treatment_intervention='''MATCH (project:Project)-[:HAS_ENROLLED_SUBJECT]-\n",
    "                        (subject:Subject)-[:HAD_INTERVENTION]-(treatment:Clinical_variable)\n",
    "                        WHERE project.id=\"P0000002\n",
    "                        RETURN treatment.name AS treatment\"'''\n",
    "side_effects_similarity = '''MATCH (d1:Drug)-[:HAS_SIDE_EFFECT]->(phenotype1)\n",
    "                            WHERE d1.name in [{}]\n",
    "                            WITH d1, unique(collect(id(phenotype1))) AS d1sideeffects\n",
    "                            MATCH (d2:Drug)-[:HAS_SIDE_EFFECTS]->(phenotype2)\n",
    "                            WHERE d2.id IN [{}]\n",
    "                            WITH d1, d1sideeffects, d2, collect(id(phenotype2)) AS d2sideeffects\n",
    "                            RETURN d1.name AS from,\n",
    "                                   d2.name AS to,\n",
    "                                   algo.similarity.jaccard(d1sideeffects, d2sideeffects) AS similarity'''"
   ]
  },
  {
   "cell_type": "code",
   "execution_count": 304,
   "metadata": {},
   "outputs": [],
   "source": [
    "net = viz.get_network(data=side_effects, identifier=\"side_effects\", args={\"source\":\"node1\", \"target\":\"node2\", \"node_size\":\"degree\",\"title\":\"Side effects\", \"color_weight\":False})"
   ]
  },
  {
   "cell_type": "code",
   "execution_count": 305,
   "metadata": {},
   "outputs": [
    {
     "data": {
      "application/vnd.jupyter.widget-view+json": {
       "model_id": "68c731baa31740179e88b8a970f0a7fe",
       "version_major": 2,
       "version_minor": 0
      },
      "text/plain": [
       "Cytoscape(data={'elements': [{'data': {'degree': 1, 'radius': 1, 'color': '#1acf66', 'cluster': 0, 'id': 'Cuta…"
      ]
     },
     "metadata": {},
     "output_type": "display_data"
    }
   ],
   "source": [
    "viz.visualize_notebook_network(net[\"notebook\"], notebook_type='jupyter', layout={'width':'100%', 'height':'700px'})"
   ]
  },
  {
   "cell_type": "code",
   "execution_count": 249,
   "metadata": {},
   "outputs": [],
   "source": [
    "net_json = net['net_json']\n",
    "graph_nx = utils.json_network_to_networkx(net_json)\n",
    "sorted_degrees = sorted(graph_nx.degree, key=lambda x: x[1], reverse=False)\n",
    "count = 30\n",
    "top_20_lowest_degree = []\n",
    "for n, degree in sorted_degrees:\n",
    "    if n in side_effects[\"node1\"].unique():\n",
    "        top_20_lowest_degree.append((n,degree))\n",
    "        count -=1\n",
    "    if count==0:\n",
    "        break"
   ]
  },
  {
   "cell_type": "code",
   "execution_count": 250,
   "metadata": {},
   "outputs": [
    {
     "data": {
      "text/plain": [
       "[('Acetic acid', 5),\n",
       " ('Cholic Acid', 7),\n",
       " ('Lactic Acid', 9),\n",
       " ('D-Lactic acid', 9),\n",
       " ('Ketamine', 21),\n",
       " ('Bumetanide', 40),\n",
       " ('Lapatinib', 41),\n",
       " ('Vorinostat', 42),\n",
       " ('Dinoprostone', 51),\n",
       " ('Tranylcypromine', 54),\n",
       " ('(1R,2S)-2-Phenylcyclopropanaminium', 54),\n",
       " ('Calcitriol', 59),\n",
       " ('Gefitinib', 66),\n",
       " ('Nicotine', 86),\n",
       " ('Minocycline', 98),\n",
       " ('Fluvastatin', 99),\n",
       " ('Sorafenib', 104),\n",
       " ('Dasatinib', 144),\n",
       " ('Atorvastatin', 152),\n",
       " ('Paclitaxel', 211),\n",
       " ('Doxorubicin', 282),\n",
       " ('Epirubicin', 282)]"
      ]
     },
     "execution_count": 250,
     "metadata": {},
     "output_type": "execute_result"
    }
   ],
   "source": [
    "top_20_lowest_degree"
   ]
  },
  {
   "cell_type": "code",
   "execution_count": 251,
   "metadata": {},
   "outputs": [
    {
     "data": {
      "text/plain": [
       "set()"
      ]
     },
     "execution_count": 251,
     "metadata": {},
     "output_type": "execute_result"
    }
   ],
   "source": [
    "set(top_20_highest_degree).intersection(top_20_lowest_degree)"
   ]
  },
  {
   "cell_type": "code",
   "execution_count": null,
   "metadata": {},
   "outputs": [],
   "source": []
  },
  {
   "cell_type": "code",
   "execution_count": null,
   "metadata": {},
   "outputs": [],
   "source": []
  }
 ],
 "metadata": {
  "kernelspec": {
   "display_name": "Python 3",
   "language": "python",
   "name": "python3"
  }
 },
 "nbformat": 4,
 "nbformat_minor": 2
}
