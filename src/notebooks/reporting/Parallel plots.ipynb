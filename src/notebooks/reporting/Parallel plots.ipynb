{
 "cells": [
  {
   "cell_type": "code",
   "execution_count": 1,
   "metadata": {
    "scrolled": true
   },
   "outputs": [
    {
     "name": "stderr",
     "output_type": "stream",
     "text": [
      "/Users/plh450/CKG_env_updated/lib/python3.6/site-packages/rpy2/robjects/pandas2ri.py:197: UserWarning:\n",
      "\n",
      "R object inheriting from \"POSIXct\" but without attribute \"tzone\".\n",
      "\n",
      "Using TensorFlow backend.\n",
      "/Users/plh450/CKG_env_updated/lib/python3.6/site-packages/rpy2/robjects/pandas2ri.py:197: UserWarning:\n",
      "\n",
      "R object inheriting from \"POSIXct\" but without attribute \"tzone\".\n",
      "\n"
     ]
    },
    {
     "data": {
      "text/html": [
       "        <script type=\"text/javascript\">\n",
       "        window.PlotlyConfig = {MathJaxConfig: 'local'};\n",
       "        if (window.MathJax) {MathJax.Hub.Config({SVG: {font: \"STIX-Web\"}});}\n",
       "        if (typeof require !== 'undefined') {\n",
       "        require.undef(\"plotly\");\n",
       "        requirejs.config({\n",
       "            paths: {\n",
       "                'plotly': ['https://cdn.plot.ly/plotly-latest.min']\n",
       "            }\n",
       "        });\n",
       "        require(['plotly'], function(Plotly) {\n",
       "            window._Plotly = Plotly;\n",
       "        });\n",
       "        }\n",
       "        </script>\n",
       "        "
      ]
     },
     "metadata": {},
     "output_type": "display_data"
    }
   ],
   "source": [
    "import pandas as pd\n",
    "from report_manager import project, dataset, report, analyses, plots\n",
    "import networkx as nx\n",
    "from networkx.readwrite import json_graph\n",
    "from plotly.offline import init_notebook_mode, iplot\n",
    "import plotly.graph_objs as go\n",
    "from scipy.stats import zscore\n",
    "init_notebook_mode(connected=True)\n",
    "%matplotlib inline\n",
    "import ipywidgets as widgets\n",
    "from ipywidgets import interact, interact_manual\n",
    "\n",
    "import warnings\n",
    "warnings.filterwarnings('ignore')\n",
    "import logging\n",
    "logger = logging.getLogger()\n",
    "logger.setLevel(logging.CRITICAL)"
   ]
  },
  {
   "cell_type": "code",
   "execution_count": 83,
   "metadata": {
    "scrolled": true
   },
   "outputs": [],
   "source": [
    "my_project = project.Project(identifier='P0000001', datasets={}, report={})\n",
    "my_project.load_project_data()\n",
    "my_project.load_project_report()"
   ]
  },
  {
   "cell_type": "code",
   "execution_count": 84,
   "metadata": {},
   "outputs": [],
   "source": [
    "proteomics_dataset = my_project.get_dataset('proteomics')"
   ]
  },
  {
   "cell_type": "code",
   "execution_count": 85,
   "metadata": {},
   "outputs": [
    {
     "data": {
      "text/plain": [
       "dict_keys(['multiomics', 'clinical', 'proteomics'])"
      ]
     },
     "execution_count": 85,
     "metadata": {},
     "output_type": "execute_result"
    }
   ],
   "source": [
    "my_project.list_datasets()"
   ]
  },
  {
   "cell_type": "code",
   "execution_count": 86,
   "metadata": {},
   "outputs": [
    {
     "data": {
      "text/plain": [
       "['correlation_correlation',\n",
       " 'go annotation',\n",
       " 'number of modified proteins',\n",
       " 'number of peptides',\n",
       " 'number of proteins',\n",
       " 'original',\n",
       " 'pathway annotation',\n",
       " 'processed',\n",
       " 'protein biomarkers',\n",
       " 'regulated',\n",
       " 'regulation table']"
      ]
     },
     "execution_count": 86,
     "metadata": {},
     "output_type": "execute_result"
    }
   ],
   "source": [
    "my_project.get_dataset('proteomics').list_dataframes()"
   ]
  },
  {
   "cell_type": "code",
   "execution_count": 87,
   "metadata": {},
   "outputs": [],
   "source": [
    "proteomics_dataset = my_project.get_dataset('proteomics')\n",
    "processed_df = proteomics_dataset.get_dataframe('processed')"
   ]
  },
  {
   "cell_type": "code",
   "execution_count": 88,
   "metadata": {},
   "outputs": [
    {
     "data": {
      "text/html": [
       "<div>\n",
       "<style scoped>\n",
       "    .dataframe tbody tr th:only-of-type {\n",
       "        vertical-align: middle;\n",
       "    }\n",
       "\n",
       "    .dataframe tbody tr th {\n",
       "        vertical-align: top;\n",
       "    }\n",
       "\n",
       "    .dataframe thead th {\n",
       "        text-align: right;\n",
       "    }\n",
       "</style>\n",
       "<table border=\"1\" class=\"dataframe\">\n",
       "  <thead>\n",
       "    <tr style=\"text-align: right;\">\n",
       "      <th></th>\n",
       "      <th>A2M~P01023</th>\n",
       "      <th>A30~A2MYE2</th>\n",
       "      <th>ABI3BP~Q7Z7G0</th>\n",
       "      <th>ACE~P12821</th>\n",
       "      <th>ACTB~P60709</th>\n",
       "      <th>ACTN1~P12814</th>\n",
       "      <th>ADA2~Q9NZK5</th>\n",
       "      <th>ADAMTS13~Q76LX8</th>\n",
       "      <th>ADAMTSL4~Q6UY14</th>\n",
       "      <th>ADH4~P08319</th>\n",
       "      <th>...</th>\n",
       "      <th>VIM~P08670</th>\n",
       "      <th>VK3~A2N2F4</th>\n",
       "      <th>VNN1~O95497</th>\n",
       "      <th>VTN~P04004</th>\n",
       "      <th>VWF~P04275</th>\n",
       "      <th>YWHAZ~P63104</th>\n",
       "      <th>group</th>\n",
       "      <th>sample</th>\n",
       "      <th>scFv~Q65ZC9</th>\n",
       "      <th>subject</th>\n",
       "    </tr>\n",
       "  </thead>\n",
       "  <tbody>\n",
       "    <tr>\n",
       "      <th>0</th>\n",
       "      <td>38.005564</td>\n",
       "      <td>28.173504</td>\n",
       "      <td>21.540133</td>\n",
       "      <td>22.165420</td>\n",
       "      <td>27.090330</td>\n",
       "      <td>25.039968</td>\n",
       "      <td>23.442151</td>\n",
       "      <td>24.010605</td>\n",
       "      <td>25.085820</td>\n",
       "      <td>23.389032</td>\n",
       "      <td>...</td>\n",
       "      <td>24.178889</td>\n",
       "      <td>25.835908</td>\n",
       "      <td>22.480055</td>\n",
       "      <td>32.815815</td>\n",
       "      <td>28.922779</td>\n",
       "      <td>19.198487</td>\n",
       "      <td>Cirrhosis</td>\n",
       "      <td>AS68</td>\n",
       "      <td>27.788928</td>\n",
       "      <td>S68</td>\n",
       "    </tr>\n",
       "    <tr>\n",
       "      <th>1</th>\n",
       "      <td>37.309118</td>\n",
       "      <td>27.981907</td>\n",
       "      <td>27.342062</td>\n",
       "      <td>23.847270</td>\n",
       "      <td>27.461155</td>\n",
       "      <td>25.896268</td>\n",
       "      <td>23.754503</td>\n",
       "      <td>24.135818</td>\n",
       "      <td>19.183590</td>\n",
       "      <td>22.148706</td>\n",
       "      <td>...</td>\n",
       "      <td>23.709777</td>\n",
       "      <td>25.004889</td>\n",
       "      <td>23.852908</td>\n",
       "      <td>32.722121</td>\n",
       "      <td>29.881279</td>\n",
       "      <td>22.141285</td>\n",
       "      <td>Cirrhosis</td>\n",
       "      <td>AS69</td>\n",
       "      <td>26.869972</td>\n",
       "      <td>S69</td>\n",
       "    </tr>\n",
       "    <tr>\n",
       "      <th>2</th>\n",
       "      <td>37.384952</td>\n",
       "      <td>28.857627</td>\n",
       "      <td>20.123246</td>\n",
       "      <td>22.863630</td>\n",
       "      <td>27.929764</td>\n",
       "      <td>24.295225</td>\n",
       "      <td>23.359443</td>\n",
       "      <td>24.121788</td>\n",
       "      <td>24.923476</td>\n",
       "      <td>23.017163</td>\n",
       "      <td>...</td>\n",
       "      <td>23.599064</td>\n",
       "      <td>26.271650</td>\n",
       "      <td>24.232132</td>\n",
       "      <td>32.755752</td>\n",
       "      <td>29.444625</td>\n",
       "      <td>18.869370</td>\n",
       "      <td>Cirrhosis</td>\n",
       "      <td>AS70</td>\n",
       "      <td>28.069328</td>\n",
       "      <td>S70</td>\n",
       "    </tr>\n",
       "    <tr>\n",
       "      <th>3</th>\n",
       "      <td>38.417225</td>\n",
       "      <td>28.978380</td>\n",
       "      <td>25.501910</td>\n",
       "      <td>22.992774</td>\n",
       "      <td>27.152479</td>\n",
       "      <td>25.231288</td>\n",
       "      <td>23.701340</td>\n",
       "      <td>24.568309</td>\n",
       "      <td>24.878802</td>\n",
       "      <td>26.388112</td>\n",
       "      <td>...</td>\n",
       "      <td>24.179076</td>\n",
       "      <td>25.929200</td>\n",
       "      <td>24.269047</td>\n",
       "      <td>32.714014</td>\n",
       "      <td>29.397176</td>\n",
       "      <td>22.216971</td>\n",
       "      <td>Cirrhosis</td>\n",
       "      <td>AS71</td>\n",
       "      <td>28.170209</td>\n",
       "      <td>S71</td>\n",
       "    </tr>\n",
       "    <tr>\n",
       "      <th>4</th>\n",
       "      <td>37.471303</td>\n",
       "      <td>28.748744</td>\n",
       "      <td>21.906161</td>\n",
       "      <td>22.203381</td>\n",
       "      <td>27.537048</td>\n",
       "      <td>22.392992</td>\n",
       "      <td>22.406264</td>\n",
       "      <td>24.961173</td>\n",
       "      <td>21.995507</td>\n",
       "      <td>24.339540</td>\n",
       "      <td>...</td>\n",
       "      <td>23.865224</td>\n",
       "      <td>26.701340</td>\n",
       "      <td>20.755495</td>\n",
       "      <td>32.722691</td>\n",
       "      <td>28.540895</td>\n",
       "      <td>20.880564</td>\n",
       "      <td>Cirrhosis</td>\n",
       "      <td>AS72</td>\n",
       "      <td>28.612280</td>\n",
       "      <td>S72</td>\n",
       "    </tr>\n",
       "  </tbody>\n",
       "</table>\n",
       "<p>5 rows × 524 columns</p>\n",
       "</div>"
      ],
      "text/plain": [
       "   A2M~P01023  A30~A2MYE2  ABI3BP~Q7Z7G0  ACE~P12821  ACTB~P60709  \\\n",
       "0   38.005564   28.173504      21.540133   22.165420    27.090330   \n",
       "1   37.309118   27.981907      27.342062   23.847270    27.461155   \n",
       "2   37.384952   28.857627      20.123246   22.863630    27.929764   \n",
       "3   38.417225   28.978380      25.501910   22.992774    27.152479   \n",
       "4   37.471303   28.748744      21.906161   22.203381    27.537048   \n",
       "\n",
       "   ACTN1~P12814  ADA2~Q9NZK5  ADAMTS13~Q76LX8  ADAMTSL4~Q6UY14  ADH4~P08319  \\\n",
       "0     25.039968    23.442151        24.010605        25.085820    23.389032   \n",
       "1     25.896268    23.754503        24.135818        19.183590    22.148706   \n",
       "2     24.295225    23.359443        24.121788        24.923476    23.017163   \n",
       "3     25.231288    23.701340        24.568309        24.878802    26.388112   \n",
       "4     22.392992    22.406264        24.961173        21.995507    24.339540   \n",
       "\n",
       "   ...  VIM~P08670  VK3~A2N2F4  VNN1~O95497  VTN~P04004  VWF~P04275  \\\n",
       "0  ...   24.178889   25.835908    22.480055   32.815815   28.922779   \n",
       "1  ...   23.709777   25.004889    23.852908   32.722121   29.881279   \n",
       "2  ...   23.599064   26.271650    24.232132   32.755752   29.444625   \n",
       "3  ...   24.179076   25.929200    24.269047   32.714014   29.397176   \n",
       "4  ...   23.865224   26.701340    20.755495   32.722691   28.540895   \n",
       "\n",
       "   YWHAZ~P63104      group  sample  scFv~Q65ZC9  subject  \n",
       "0     19.198487  Cirrhosis    AS68    27.788928      S68  \n",
       "1     22.141285  Cirrhosis    AS69    26.869972      S69  \n",
       "2     18.869370  Cirrhosis    AS70    28.069328      S70  \n",
       "3     22.216971  Cirrhosis    AS71    28.170209      S71  \n",
       "4     20.880564  Cirrhosis    AS72    28.612280      S72  \n",
       "\n",
       "[5 rows x 524 columns]"
      ]
     },
     "execution_count": 88,
     "metadata": {},
     "output_type": "execute_result"
    }
   ],
   "source": [
    "processed_df.head()"
   ]
  },
  {
   "cell_type": "code",
   "execution_count": 89,
   "metadata": {
    "scrolled": true
   },
   "outputs": [],
   "source": [
    "processed_df = processed_df.drop(['sample', 'subject'], axis=1).set_index('group').apply(zscore).reset_index()"
   ]
  },
  {
   "cell_type": "code",
   "execution_count": 90,
   "metadata": {},
   "outputs": [],
   "source": [
    "proteomics_report = my_project.get_dataset('proteomics').report"
   ]
  },
  {
   "cell_type": "code",
   "execution_count": 100,
   "metadata": {},
   "outputs": [],
   "source": [
    "# proteomics_report.list_plots()"
   ]
  },
  {
   "cell_type": "code",
   "execution_count": 92,
   "metadata": {},
   "outputs": [],
   "source": [
    "#proteomics_report.visualize_plot(environment='notebook', plot_type='13~correlation_correlation~network')"
   ]
  },
  {
   "cell_type": "code",
   "execution_count": 93,
   "metadata": {},
   "outputs": [],
   "source": [
    "correlation_net_dict = proteomics_report.get_plot('15~correlation_correlation~network')[0]"
   ]
  },
  {
   "cell_type": "code",
   "execution_count": 94,
   "metadata": {},
   "outputs": [],
   "source": [
    "correlation_net = json_graph.node_link_graph(correlation_net_dict['net_json'])"
   ]
  },
  {
   "cell_type": "code",
   "execution_count": 95,
   "metadata": {},
   "outputs": [],
   "source": [
    "correlation_df = pd.DataFrame.from_dict(correlation_net.nodes(data=True))\n",
    "correlation_df = correlation_df[0].to_frame().join(correlation_df[1].apply(pd.Series))"
   ]
  },
  {
   "cell_type": "code",
   "execution_count": 96,
   "metadata": {},
   "outputs": [],
   "source": [
    "correlation_df.columns = ['identifier', 'degree', 'radius', 'color', 'cluster']"
   ]
  },
  {
   "cell_type": "code",
   "execution_count": 97,
   "metadata": {},
   "outputs": [],
   "source": [
    "min_val = processed_df._get_numeric_data().min().min().round()\n",
    "max_val = processed_df._get_numeric_data().max().max().round()\n",
    "processed_df = processed_df[list(correlation_df.identifier) + ['group']]"
   ]
  },
  {
   "cell_type": "code",
   "execution_count": 98,
   "metadata": {},
   "outputs": [],
   "source": [
    "from IPython.core.display import display, HTML"
   ]
  },
  {
   "cell_type": "code",
   "execution_count": 99,
   "metadata": {},
   "outputs": [
    {
     "data": {
      "application/vnd.jupyter.widget-view+json": {
       "model_id": "26f9d204521e4d278ef31564968799ce",
       "version_major": 2,
       "version_minor": 0
      },
      "text/plain": [
       "interactive(children=(Dropdown(description='cluster', options=(0, 1, 2, 3, 4, 5, 6, 7, 8, 9, 10, 11, 12, 13, 1…"
      ]
     },
     "metadata": {},
     "output_type": "display_data"
    }
   ],
   "source": [
    "@interact\n",
    "def plot_parallel_plot(cluster=correlation_df.cluster.unique()):\n",
    "    cluster_colors = dict(zip(correlation_df.cluster, correlation_df.color))\n",
    "    clusters = correlation_df.groupby('cluster')\n",
    "    identifiers = clusters.get_group(cluster)['identifier'].tolist()\n",
    "    title= \"Parallel plot cluster: {}\".format(cluster)\n",
    "    df = processed_df.set_index('group')[identifiers].reset_index()\n",
    "    print(df.head())\n",
    "    figure = plots.basicFigures.get_parallel_plot(df, identifier=cluster, args={'color':cluster_colors[cluster], 'group':'group', \n",
    "                                                                          'title':title,\n",
    "                                                                          'zscore':False})\n",
    "    display(HTML(\"<p>{}</p>\".format(\",\".join(identifiers))))\n",
    "    iplot(figure.figure)"
   ]
  },
  {
   "cell_type": "code",
   "execution_count": null,
   "metadata": {},
   "outputs": [],
   "source": [
    "  "
   ]
  }
 ],
 "metadata": {
  "kernelspec": {
   "display_name": "Python 3",
   "language": "python",
   "name": "python3"
  },
  "language_info": {
   "codemirror_mode": {
    "name": "ipython",
    "version": 3
   },
   "file_extension": ".py",
   "mimetype": "text/x-python",
   "name": "python",
   "nbconvert_exporter": "python",
   "pygments_lexer": "ipython3",
   "version": "3.6.6"
  }
 },
 "nbformat": 4,
 "nbformat_minor": 4
}
